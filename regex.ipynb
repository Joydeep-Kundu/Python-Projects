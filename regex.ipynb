{
 "cells": [
  {
   "cell_type": "code",
   "execution_count": 1,
   "id": "6333bd1f",
   "metadata": {},
   "outputs": [],
   "source": [
    "import re"
   ]
  },
  {
   "cell_type": "code",
   "execution_count": 18,
   "id": "2b988244",
   "metadata": {},
   "outputs": [
    {
     "name": "stdout",
     "output_type": "stream",
     "text": [
      "<callable_iterator object at 0x00000236DB13EA40>\n"
     ]
    }
   ],
   "source": [
    "str1='''I shall go there.\n",
    "today is monday\n",
    "week day'''\n",
    "pat= re.compile(r'a')\n",
    "mat=pat.finditer(str1)\n",
    "for i in mat:\n",
    "    print(i)"
   ]
  },
  {
   "cell_type": "code",
   "execution_count": 21,
   "id": "d85a3cd1",
   "metadata": {},
   "outputs": [
    {
     "name": "stdout",
     "output_type": "stream",
     "text": [
      "<re.Match object; span=(4, 5), match='a'>\n",
      "<re.Match object; span=(21, 22), match='a'>\n",
      "<re.Match object; span=(31, 32), match='a'>\n",
      "<re.Match object; span=(40, 41), match='a'>\n"
     ]
    }
   ],
   "source": [
    "pat= re.compile(r'a')\n",
    "mat=pat.finditer(str1)\n",
    "for i in mat:\n",
    "    print(i)"
   ]
  },
  {
   "cell_type": "code",
   "execution_count": 22,
   "id": "dc923038",
   "metadata": {},
   "outputs": [
    {
     "name": "stdout",
     "output_type": "stream",
     "text": [
      "<re.Match object; span=(4, 5), match='a'>\n",
      "<re.Match object; span=(21, 22), match='a'>\n",
      "<re.Match object; span=(31, 32), match='a'>\n",
      "<re.Match object; span=(40, 41), match='a'>\n"
     ]
    }
   ],
   "source": [
    "pat= re.compile(r'a+')\n",
    "mat=pat.finditer(str1)\n",
    "for i in mat:\n",
    "    print(i)"
   ]
  },
  {
   "cell_type": "code",
   "execution_count": 23,
   "id": "87c01459",
   "metadata": {},
   "outputs": [
    {
     "name": "stdout",
     "output_type": "stream",
     "text": [
      "<re.Match object; span=(4, 7), match='all'>\n",
      "<re.Match object; span=(21, 22), match='a'>\n",
      "<re.Match object; span=(31, 32), match='a'>\n",
      "<re.Match object; span=(40, 41), match='a'>\n"
     ]
    }
   ],
   "source": [
    "pat= re.compile(r'al*')\n",
    "mat=pat.finditer(str1)\n",
    "for i in mat:\n",
    "    print(i)"
   ]
  },
  {
   "cell_type": "code",
   "execution_count": 26,
   "id": "37f68d03",
   "metadata": {},
   "outputs": [
    {
     "name": "stdout",
     "output_type": "stream",
     "text": [
      "<re.Match object; span=(2, 7), match='shall'>\n",
      "<re.Match object; span=(21, 22), match='a'>\n",
      "<re.Match object; span=(31, 32), match='a'>\n",
      "<re.Match object; span=(40, 41), match='a'>\n"
     ]
    }
   ],
   "source": [
    "pat= re.compile(r'a|shall')\n",
    "mat=pat.finditer(str1)\n",
    "for i in mat:\n",
    "    print(i)"
   ]
  },
  {
   "cell_type": "code",
   "execution_count": 33,
   "id": "57accf2e",
   "metadata": {},
   "outputs": [
    {
     "name": "stdout",
     "output_type": "stream",
     "text": [
      "<re.Match object; span=(5, 7), match='ll'>\n"
     ]
    }
   ],
   "source": [
    "pat= re.compile(r'l{2}')\n",
    "mat=pat.finditer(str1)\n",
    "for i in mat:\n",
    "    print(i)"
   ]
  },
  {
   "cell_type": "code",
   "execution_count": null,
   "id": "8fb69c7a",
   "metadata": {},
   "outputs": [],
   "source": []
  }
 ],
 "metadata": {
  "kernelspec": {
   "display_name": "Python 3 (ipykernel)",
   "language": "python",
   "name": "python3"
  },
  "language_info": {
   "codemirror_mode": {
    "name": "ipython",
    "version": 3
   },
   "file_extension": ".py",
   "mimetype": "text/x-python",
   "name": "python",
   "nbconvert_exporter": "python",
   "pygments_lexer": "ipython3",
   "version": "3.10.7"
  }
 },
 "nbformat": 4,
 "nbformat_minor": 5
}
