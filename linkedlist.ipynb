{
 "cells": [
  {
   "cell_type": "code",
   "execution_count": 57,
   "id": "e9451071",
   "metadata": {},
   "outputs": [],
   "source": [
    "class nod:\n",
    "    def __init__(self,val=0,next=None):\n",
    "        self.val=val\n",
    "        self.next=next"
   ]
  },
  {
   "cell_type": "code",
   "execution_count": 59,
   "id": "5ef55b8d",
   "metadata": {},
   "outputs": [],
   "source": [
    "l=[1,2,3,1]"
   ]
  },
  {
   "cell_type": "code",
   "execution_count": 65,
   "id": "6c195a7a",
   "metadata": {},
   "outputs": [
    {
     "name": "stdout",
     "output_type": "stream",
     "text": [
      "<__main__.nod object at 0x0000019696528AC0>\n"
     ]
    }
   ],
   "source": [
    "head = None\n",
    "runner = None\n",
    "for val in l:\n",
    "    if head == None:\n",
    "        head = nod(val)\n",
    "        runner = head\n",
    "    else:\n",
    "        runner.next = nod(val)\n",
    "        runner = runner.next\n",
    "                \n",
    "            \n",
    "print(head)"
   ]
  },
  {
   "cell_type": "code",
   "execution_count": 67,
   "id": "c7251806",
   "metadata": {},
   "outputs": [
    {
     "ename": "TypeError",
     "evalue": "'nod' object is not iterable",
     "output_type": "error",
     "traceback": [
      "\u001b[1;31m---------------------------------------------------------------------------\u001b[0m",
      "\u001b[1;31mTypeError\u001b[0m                                 Traceback (most recent call last)",
      "Cell \u001b[1;32mIn [67], line 1\u001b[0m\n\u001b[1;32m----> 1\u001b[0m \u001b[38;5;28;01mfor\u001b[39;00m i \u001b[38;5;129;01min\u001b[39;00m head:\n\u001b[0;32m      2\u001b[0m     \u001b[38;5;28mprint\u001b[39m(i\u001b[38;5;241m.\u001b[39mval)\n",
      "\u001b[1;31mTypeError\u001b[0m: 'nod' object is not iterable"
     ]
    }
   ],
   "source": [
    "for i in head:\n",
    "    print(i.val)"
   ]
  },
  {
   "cell_type": "code",
   "execution_count": null,
   "id": "be48fc34",
   "metadata": {},
   "outputs": [],
   "source": []
  },
  {
   "cell_type": "code",
   "execution_count": 40,
   "id": "a81eafc3",
   "metadata": {},
   "outputs": [],
   "source": [
    "class likedlist:\n",
    "    def __init__(self):\n",
    "        self.head=None\n",
    "    def show(self):\n",
    "        node=self.head\n",
    "        while node is not None:\n",
    "            print(node.val)\n",
    "            node=node.next"
   ]
  },
  {
   "cell_type": "code",
   "execution_count": null,
   "id": "03971a1d",
   "metadata": {},
   "outputs": [],
   "source": []
  },
  {
   "cell_type": "code",
   "execution_count": 41,
   "id": "be8f21dd",
   "metadata": {},
   "outputs": [],
   "source": [
    "lin=likedlist()"
   ]
  },
  {
   "cell_type": "code",
   "execution_count": 42,
   "id": "e742db5a",
   "metadata": {},
   "outputs": [],
   "source": [
    "ele=nod(1221)\n",
    "ele2=nod(11)"
   ]
  },
  {
   "cell_type": "code",
   "execution_count": 43,
   "id": "b071ff9f",
   "metadata": {},
   "outputs": [],
   "source": [
    "lin.head=ele\n",
    "lin.head.next=ele2"
   ]
  },
  {
   "cell_type": "code",
   "execution_count": 44,
   "id": "160384e3",
   "metadata": {},
   "outputs": [
    {
     "name": "stdout",
     "output_type": "stream",
     "text": [
      "1221\n",
      "11\n"
     ]
    }
   ],
   "source": [
    "lin.show()"
   ]
  },
  {
   "cell_type": "code",
   "execution_count": 45,
   "id": "371be8a0",
   "metadata": {},
   "outputs": [],
   "source": [
    "ele3=nod(21)\n",
    "ele3.next=lin.head"
   ]
  },
  {
   "cell_type": "code",
   "execution_count": null,
   "id": "83f4ee41",
   "metadata": {},
   "outputs": [],
   "source": []
  },
  {
   "cell_type": "code",
   "execution_count": 46,
   "id": "81f5ac00",
   "metadata": {},
   "outputs": [],
   "source": [
    "lin.head=ele3"
   ]
  },
  {
   "cell_type": "code",
   "execution_count": 47,
   "id": "1addcb89",
   "metadata": {},
   "outputs": [
    {
     "name": "stdout",
     "output_type": "stream",
     "text": [
      "21\n",
      "1221\n",
      "11\n"
     ]
    }
   ],
   "source": [
    "lin.show()"
   ]
  },
  {
   "cell_type": "code",
   "execution_count": 56,
   "id": "ee368d0c",
   "metadata": {},
   "outputs": [
    {
     "data": {
      "text/plain": [
       "<__main__.nod at 0x1969786faf0>"
      ]
     },
     "execution_count": 56,
     "metadata": {},
     "output_type": "execute_result"
    }
   ],
   "source": [
    "ele3.next.next"
   ]
  },
  {
   "cell_type": "code",
   "execution_count": null,
   "id": "6a1c7925",
   "metadata": {},
   "outputs": [],
   "source": []
  }
 ],
 "metadata": {
  "kernelspec": {
   "display_name": "Python 3 (ipykernel)",
   "language": "python",
   "name": "python3"
  },
  "language_info": {
   "codemirror_mode": {
    "name": "ipython",
    "version": 3
   },
   "file_extension": ".py",
   "mimetype": "text/x-python",
   "name": "python",
   "nbconvert_exporter": "python",
   "pygments_lexer": "ipython3",
   "version": "3.10.7"
  }
 },
 "nbformat": 4,
 "nbformat_minor": 5
}
