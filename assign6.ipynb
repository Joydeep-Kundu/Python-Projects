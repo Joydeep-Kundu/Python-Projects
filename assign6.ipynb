{
 "cells": [
  {
   "cell_type": "code",
   "execution_count": 9,
   "metadata": {},
   "outputs": [
    {
     "name": "stdout",
     "output_type": "stream",
     "text": [
      "1341 134\n",
      "1341 67   2\n",
      "447 67   3\n",
      "149 67   3\n",
      "149 1   67\n",
      "1 1   149\n",
      "179694\n"
     ]
    }
   ],
   "source": [
    "a,b=[int(x) for x in input().split()]\n",
    "m=1\n",
    "while a>1 or b>1:\n",
    "    i=2\n",
    "    while a%i!=0 and b%i!=0:\n",
    "        i+=1\n",
    "#     print(i,a,b)\n",
    "    if a%i==0 and b%i==0:\n",
    "        a//=i\n",
    "        b//=i\n",
    "    elif a%i==0:\n",
    "        a//=i\n",
    "    else:\n",
    "        b//=i\n",
    "    print(a,b,' ',i)\n",
    "    m*=i\n",
    "print(m)\n",
    "    "
   ]
  },
  {
   "cell_type": "code",
   "execution_count": null,
   "metadata": {},
   "outputs": [],
   "source": [
    "def name():\n",
    "    print('joydeep')\n",
    "print(name())"
   ]
  },
  {
   "cell_type": "code",
   "execution_count": 13,
   "metadata": {},
   "outputs": [
    {
     "name": "stdout",
     "output_type": "stream",
     "text": [
      "35\n"
     ]
    }
   ],
   "source": [
    "def sum1(a,b):\n",
    "    return a+b\n",
    "print(sum1(a,b))"
   ]
  },
  {
   "cell_type": "code",
   "execution_count": 14,
   "metadata": {},
   "outputs": [
    {
     "name": "stdout",
     "output_type": "stream",
     "text": [
      "276\n"
     ]
    }
   ],
   "source": [
    "def mull(a,b):\n",
    "    return a*b\n",
    "print(mull(a,b))"
   ]
  },
  {
   "cell_type": "code",
   "execution_count": 39,
   "metadata": {},
   "outputs": [
    {
     "name": "stdout",
     "output_type": "stream",
     "text": [
      "15\n"
     ]
    }
   ],
   "source": [
    "\n",
    "def gcd(a,b):\n",
    "    if a==0:\n",
    "        return b;\n",
    "    return gcd(b%a,a)\n",
    "print((5*15)//gcd(5,15))\n"
   ]
  },
  {
   "cell_type": "code",
   "execution_count": null,
   "metadata": {},
   "outputs": [],
   "source": []
  },
  {
   "cell_type": "code",
   "execution_count": 45,
   "metadata": {},
   "outputs": [
    {
     "name": "stdout",
     "output_type": "stream",
     "text": [
      "[2, 1, 12, 42, 11, 14, 41]\n"
     ]
    }
   ],
   "source": [
    "def uniq(l):\n",
    "    if len(l)==0:\n",
    "        return []\n",
    "    if l[0] in l[1:]:\n",
    "        return uniq(l[1:])\n",
    "    return [l[0]]+uniq(l[1:])\n",
    "print(uniq([1,2,1,1,2,2,1,12,41,42,11,14,41,41]))"
   ]
  },
  {
   "cell_type": "code",
   "execution_count": 46,
   "metadata": {},
   "outputs": [
    {
     "name": "stdout",
     "output_type": "stream",
     "text": [
      "[1, 2, 12, 41, 42, 11, 14]\n"
     ]
    }
   ],
   "source": [
    "def uniq(l):\n",
    "    if len(l)==0:\n",
    "        return []\n",
    "    if l[-1] in l[:-1]:\n",
    "        return uniq(l[:-1])\n",
    "    return uniq(l[:-1])+[l[-1]]\n",
    "print(uniq([1,2,1,1,2,2,1,12,41,42,11,14,41,41]))"
   ]
  },
  {
   "cell_type": "code",
   "execution_count": 48,
   "metadata": {},
   "outputs": [
    {
     "name": "stdout",
     "output_type": "stream",
     "text": [
      "44\n"
     ]
    }
   ],
   "source": [
    "def sum(l):\n",
    "    if len(l)==0:\n",
    "        return 0\n",
    "    return l[0]+sum(l[1:])\n",
    "print(sum([1,31,12]))"
   ]
  },
  {
   "cell_type": "code",
   "execution_count": 54,
   "metadata": {},
   "outputs": [
    {
     "name": "stdout",
     "output_type": "stream",
     "text": [
      "[12, 24, 12, 4, 12]\n"
     ]
    }
   ],
   "source": [
    "def eve(l):\n",
    "    if len(l)==0:\n",
    "        return []\n",
    "    if l[0]%2==1:\n",
    "        return eve(l[1:])\n",
    "    return [l[0]]+eve(l[1:])\n",
    "print(eve([1,12,24,12,4,3,7,12,21]))"
   ]
  },
  {
   "cell_type": "code",
   "execution_count": null,
   "metadata": {},
   "outputs": [],
   "source": [
    "def prime(n):\n",
    "    if n==1:\n",
    "        return False\n",
    "    return prime(n)"
   ]
  },
  {
   "cell_type": "code",
   "execution_count": 5,
   "metadata": {},
   "outputs": [
    {
     "name": "stdout",
     "output_type": "stream",
     "text": [
      "12 23 124\n",
      "124\n"
     ]
    }
   ],
   "source": [
    "a,b,c=[int(x) for x in input().split()]\n",
    "def max1(a,b,c):\n",
    "    if a>b:\n",
    "        if a>c:\n",
    "            return a\n",
    "        return c\n",
    "\n",
    "    if b>c:\n",
    "        return b\n",
    "    return c\n",
    "print(max1(a,b,c))"
   ]
  },
  {
   "cell_type": "code",
   "execution_count": 7,
   "metadata": {},
   "outputs": [
    {
     "name": "stdout",
     "output_type": "stream",
     "text": [
      "[1, 4, 9, 16, 25, 36, 49, 64, 81]\n"
     ]
    }
   ],
   "source": [
    "def fun(a,b):\n",
    "    if a==b:\n",
    "        return [a**2]\n",
    "    return [a**2]+fun(a+1,b)\n",
    "print(fun(1,9))"
   ]
  },
  {
   "cell_type": "code",
   "execution_count": 9,
   "metadata": {},
   "outputs": [
    {
     "name": "stdout",
     "output_type": "stream",
     "text": [
      "36\n"
     ]
    }
   ],
   "source": [
    "def mul(l):\n",
    "    if len(l)==0:\n",
    "        return 1\n",
    "    return l[0]*mul(l[1:])\n",
    "print(mul([2,3,2,3]))"
   ]
  },
  {
   "cell_type": "code",
   "execution_count": 11,
   "metadata": {},
   "outputs": [
    {
     "name": "stdout",
     "output_type": "stream",
     "text": [
      "fafs\n"
     ]
    }
   ],
   "source": [
    "def rev(s):\n",
    "    if s=='':\n",
    "        return ''\n",
    "    return rev(s[1:])+s[0]\n",
    "print(rev('sfaf'))"
   ]
  }
 ],
 "metadata": {
  "kernelspec": {
   "display_name": "Python 3 (ipykernel)",
   "language": "python",
   "name": "python3"
  },
  "language_info": {
   "codemirror_mode": {
    "name": "ipython",
    "version": 3
   },
   "file_extension": ".py",
   "mimetype": "text/x-python",
   "name": "python",
   "nbconvert_exporter": "python",
   "pygments_lexer": "ipython3",
   "version": "3.10.7 (tags/v3.10.7:6cc6b13, Sep  5 2022, 14:08:36) [MSC v.1933 64 bit (AMD64)]"
  },
  "vscode": {
   "interpreter": {
    "hash": "27d96943ef1d71b027dd7ed6a091ef84b556d3fea03b0ad3e14428f89ddeacc0"
   }
  }
 },
 "nbformat": 4,
 "nbformat_minor": 2
}
